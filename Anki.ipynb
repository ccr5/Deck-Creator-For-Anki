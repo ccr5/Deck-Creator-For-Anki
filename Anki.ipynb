{
 "cells": [
  {
   "cell_type": "code",
   "execution_count": 1,
   "metadata": {},
   "outputs": [],
   "source": [
    "# Importing all libraries to use\n",
    "import pandas as pd\n",
    "import requests\n",
    "import bs4"
   ]
  },
  {
   "cell_type": "code",
   "execution_count": 2,
   "metadata": {},
   "outputs": [],
   "source": [
    "# getting the words\n",
    "data = pd.read_csv('data.csv', sep='\\t')\n",
    "words = [x for x in data.index]"
   ]
  },
  {
   "cell_type": "code",
   "execution_count": null,
   "metadata": {},
   "outputs": [],
   "source": [
    "# Example - how to get word translations\n",
    "res = requests.get(f'https://pt.bab.la/dicionario/ingles-portugues/{words[0]}')\n",
    "soup = bs4.BeautifulSoup(res.text, 'lxml')\n",
    "desc = [x.text for x in soup.select('.quick-result-entry')[0].select('.sense-group-results a')]"
   ]
  },
  {
   "cell_type": "code",
   "execution_count": null,
   "metadata": {},
   "outputs": [],
   "source": [
    "# Example - How to get sentences examples\n",
    "result = [x.text.split() for x in soup.select('.result-block.container')[0].select('.sense-group .dict-example .dict-source')]\n",
    "examples = []\n",
    "for example in result:\n",
    "    count = 0\n",
    "    ret = []\n",
    "    for word in example:\n",
    "        if word == 'revisão':\n",
    "            count = 1\n",
    "            continue\n",
    "        \n",
    "        if count == 0:\n",
    "            pass\n",
    "        else:\n",
    "            ret.append(word)\n",
    "    examples.append(ret)"
   ]
  },
  {
   "cell_type": "code",
   "execution_count": 3,
   "metadata": {},
   "outputs": [],
   "source": [
    "#Creating a dict with all words, description and examples\n",
    "result = {}\n",
    "\n",
    "# Creating for loop\n",
    "for word in words:\n",
    "    res = requests.get(f'https://pt.bab.la/dicionario/ingles-portugues/{word}')\n",
    "    soup = bs4.BeautifulSoup(res.text, 'lxml')\n",
    "    \n",
    "    desc = [x.text for x in soup.select('.quick-result-entry')[0].select('.sense-group-results a')]\n",
    "    examples = []\n",
    "    \n",
    "    for example in [\n",
    "        x.text.split() for x in soup.select('.result-block.container')[0].select('.sense-group .dict-example .dict-source')\n",
    "    ][:2]:\n",
    "        count = 0\n",
    "        ret = []\n",
    "        for x in example:\n",
    "            if x == 'revisão':\n",
    "                count = 1\n",
    "                continue\n",
    "\n",
    "            if count == 0:\n",
    "                pass\n",
    "            else:\n",
    "                ret.append(x.replace(\"'\", \"\").replace('\"', ''))\n",
    "        examples.append(ret)\n",
    "    \n",
    "    result[word] = [desc, examples]"
   ]
  },
  {
   "cell_type": "code",
   "execution_count": null,
   "metadata": {
    "scrolled": true
   },
   "outputs": [],
   "source": [
    "# Creating a line to add into a txt\n",
    "for key, value in result.items():\n",
    "    \n",
    "    line = f\"{key};\"\n",
    "    line += \", \".join(value[0])\n",
    "    line += \";\"\n",
    "    for x in value[1]:\n",
    "        line += \" \".join(x)\n",
    "        line += \",\"\n",
    "    \n",
    "    print(line)"
   ]
  },
  {
   "cell_type": "code",
   "execution_count": null,
   "metadata": {},
   "outputs": [],
   "source": []
  }
 ],
 "metadata": {
  "kernelspec": {
   "display_name": "Python 3",
   "language": "python",
   "name": "python3"
  },
  "language_info": {
   "codemirror_mode": {
    "name": "ipython",
    "version": 3
   },
   "file_extension": ".py",
   "mimetype": "text/x-python",
   "name": "python",
   "nbconvert_exporter": "python",
   "pygments_lexer": "ipython3",
   "version": "3.7.4"
  }
 },
 "nbformat": 4,
 "nbformat_minor": 2
}
